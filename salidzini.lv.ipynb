{
 "cells": [
  {
   "cell_type": "code",
   "execution_count": null,
   "metadata": {},
   "outputs": [],
   "source": [
    "import pandas as pd\n",
    "import requests\n",
    "from lxml import html"
   ]
  },
  {
   "cell_type": "markdown",
   "metadata": {},
   "source": [
    "### Iegūstam veikalu sarakstu"
   ]
  },
  {
   "cell_type": "code",
   "execution_count": null,
   "metadata": {},
   "outputs": [],
   "source": [
    "def get_shops(url, selector):\n",
    "    \"\"\"\n",
    "    \"\"\"\n",
    "    doc = requests.get(url)\n",
    "    tree = html.fromstring(doc.content)\n",
    "    return [s.lower() for s in tree.xpath(selector)]"
   ]
  },
  {
   "cell_type": "code",
   "execution_count": null,
   "metadata": {},
   "outputs": [],
   "source": [
    "shops = get_shops(\n",
    "    \"https://www.kurpirkt.lv/veikali.php\",\n",
    "    \"//ul[@class=\\\"veikali\\\"]/li[@class=\\\"veikals\\\"]/a/text()\"\n",
    ")\n",
    "len(shops)"
   ]
  },
  {
   "cell_type": "markdown",
   "metadata": {},
   "source": [
    "### Iegūstam komentāru sarakstu katram veikalam"
   ]
  },
  {
   "cell_type": "code",
   "execution_count": null,
   "metadata": {},
   "outputs": [],
   "source": [
    "def get_comment_pages(shop, selector):\n",
    "    \"\"\"\n",
    "    \"\"\"\n",
    "    url_tpl = \"https://www.salidzini.lv/veikals/{}?p={}\"\n",
    "    page = 0\n",
    "    comment_page = []\n",
    "\n",
    "    while page == 0 or len(comment_page) > 0:\n",
    "        page += 1\n",
    "        doc = requests.get(url_tpl.format(shop, page))\n",
    "        tree = html.fromstring(doc.content)\n",
    "        comment_page = tree.xpath(selector)\n",
    "\n",
    "        yield comment_page"
   ]
  },
  {
   "cell_type": "code",
   "execution_count": null,
   "metadata": {},
   "outputs": [],
   "source": [
    "def get_rating(comment):\n",
    "    \"\"\"\n",
    "    \"\"\"\n",
    "    return comment.xpath(\n",
    "        \".//div[@itemprop=\\\"reviewRating\\\"]/meta[@itemprop=\\\"ratingValue\\\"]\"\n",
    "    )[0].attrib.get(\"content\")"
   ]
  },
  {
   "cell_type": "code",
   "execution_count": null,
   "metadata": {},
   "outputs": [],
   "source": [
    "def get_rating_date(comment):\n",
    "    \"\"\"\n",
    "    \"\"\"\n",
    "    return comment.xpath(\n",
    "        \".//div[@itemprop=\\\"datePublished\\\"]\"\n",
    "    )[0].attrib.get(\"content\")"
   ]
  },
  {
   "cell_type": "code",
   "execution_count": null,
   "metadata": {},
   "outputs": [],
   "source": [
    "def get_rating_body(comment):\n",
    "    \"\"\"\n",
    "    \"\"\"\n",
    "    ret = comment.xpath(\".//div[@itemprop=\\\"reviewBody\\\"]/text()\")\n",
    "    return len(ret) > 0 and ret[0] if isinstance(ret, list) else ret"
   ]
  },
  {
   "cell_type": "code",
   "execution_count": null,
   "metadata": {},
   "outputs": [],
   "source": [
    "data = []\n",
    "shop_count = 0\n",
    "comment_count = 0\n",
    "\n",
    "for shop in shops:\n",
    "    shop_count += 1\n",
    "\n",
    "    for comment_page in get_comment_pages(shop, \"//table[@class=\\\"comment_table\\\"]\"):\n",
    "        for comment in comment_page:\n",
    "            comment_count += 1\n",
    "            data.append([\n",
    "                shop,\n",
    "                get_rating_date(comment),\n",
    "                get_rating(comment),\n",
    "                get_rating_body(comment),\n",
    "            ])\n",
    "\n",
    "    print(\"{}. {}: {}\".format(shop_count, shop, comment_count))\n",
    "    comment_count = 0"
   ]
  },
  {
   "cell_type": "code",
   "execution_count": null,
   "metadata": {},
   "outputs": [],
   "source": [
    "df = pd.DataFrame(data, columns=[\"Shop\", \"Date\", \"Rating\", \"Comment\"])\n",
    "with pd.ExcelWriter(\"ratings.xlsx\") as writer:\n",
    "    df.to_excel(writer)"
   ]
  }
 ],
 "metadata": {
  "kernelspec": {
   "display_name": "Python 3",
   "language": "python",
   "name": "python3"
  },
  "language_info": {
   "codemirror_mode": {
    "name": "ipython",
    "version": 3
   },
   "file_extension": ".py",
   "mimetype": "text/x-python",
   "name": "python",
   "nbconvert_exporter": "python",
   "pygments_lexer": "ipython3",
   "version": "3.8.1"
  }
 },
 "nbformat": 4,
 "nbformat_minor": 2
}
